{
 "cells": [
  {
   "cell_type": "markdown",
   "metadata": {},
   "source": [
    "# 3D - Conductance in top gated 2DEG\n",
    "\n",
    "## 1. Introduction\n",
    "### 1.1 Purpose\n",
    "With this Jupyter Notebook (JN) you can practice the tutorial [3D - Conductance in top gated 2DEG](https://www.nextnano.com/manual/nextnanoplus_tutorials/electronics/3D_conductance_in_top_gated_2DEG.html). Following this JN you will learn how to extract the potential calculated with **nextnano++** and use it to simulate the transport properties of a simple square QPC in **Kwant**.\n",
    "\n",
    "### 1.2 What are the engines\n",
    "This JN uses two independent solvers: **nextnano++** and **Kwant**. The **nextnano++** is a self-consistent Schrödinger-Poisson-Current equations solver for arbitraty 1D, 2D, and 3D semiconductor structures, that can be run either using **nextnanomat** or free **nextnanopy** Python package. **Kwant** is a Python package for numerical calculations on tight-binding models with a strong focus on quantum transport.\n",
    "\n",
    "### 1.3 What to install\n",
    "All **nextnano++**, **nextnanopy**, and **Kwant** are used in this notebook. To make sure that you can sucessfully go through this JN, you should make sure that you have istalled the newest versions of the packages and our software. Additionaly, you may be interested in installing **MUMPS** for better computational performance, however, it is not required.\n",
    "\n",
    "Here is the list of things to install before proceeding further:\n",
    "- [nextnano Software](https://www.nextnano.com/manual/downloads.html) to simulate an electric potential in 2DEG - the quantum point contact (QPC).\n",
    "- [nextnanopy Python package](https://github.com/nextnanopy/nextnanopy/blob/master/docs/How%20to%20install%20nextnanopy.md) to run simulations in nextnano++ and read the results using Python script.\n",
    "- [Kwant Python package](https://kwant-project.org/install) to perform the main simulation, transmission throught the QPC.\n",
    "- [MUMPS](https://graal.ens-lyon.fr/MUMPS/index.php?page=dwnld) [(conda install)](https://anaconda.org/conda-forge/mumps) to get better performance.\n",
    "\n",
    "### 1.4 It is just an example - MAKE IT YOURS\n",
    "This notebook and related input file for **nextnano++** are just an example presenting how to use **nextnano++** and **Kwant** together to use the powerful simulations of quantum transport of **Kwant** for realistic cases modeled by **nextnano++**.\n",
    "\n",
    "After learning how this JN works:\n",
    "- You can use this JN as a template and play with the geometry of the QPC to see how it affects the pinch-off curve.\n",
    "- You can simulate transport properties in other devices, simply by changing the gates geometry in the related input file for **nextnano++**. You can complexify the model used in Kwant by adding more leads, magnetic field, disorder, etc.  It will allow you to model the transport of a 2DEG in whatever structure you wish to consider. ([nextnano++](https://www.nextnano.com/manual/nextnanoplus/index.html), [Kwant](https://kwant-project.org/doc/))\n",
    "- You can calibrate the **nextnano++** simulation for your exprimental sample to compare the simulation results with measured data ([nextnano++](https://www.nextnano.com/manual/nextnanoplus/index.html))\n"
   ]
  },
  {
   "cell_type": "markdown",
   "metadata": {},
   "source": [
    "## 2. Preparing for Simulation\n",
    "\n",
    "### 2.1 Run nextnano++\n",
    "This is the moment when you should run the input file **3D_conductance_in_top_gated_2DEG_nnp.in** using the **nextnano++**. It will take a while to get results (maybe even a few hours). The input file is prepared to run 101 simulations for the top-gate biases in the range **from -1.5 to 0.0 V**, and the bottom-gate bias set to **-1.1 V**. The results important for this tutorial will be stored in files named **bandedges_2d_2deg_slice.fld**.\n",
    "\n",
    "### 2.2 Let's begin with the script\n",
    "Let's start with importing some packages and defining a few useful constants. Packages for plotting are imported and set up inside the file **matplotlib_setup.ipy**. If the script below runs properly, then you are set up, and everything further should go well."
   ]
  },
  {
   "cell_type": "code",
   "execution_count": null,
   "metadata": {
    "autoscroll": "json-false",
    "ein.tags": [
     "worksheet-0"
    ]
   },
   "outputs": [],
   "source": [
    "import numpy as np         # package with linear algebra (always important)\n",
    "import kwant as kw         # Kwant - you know about it already! (for quantum transport)\n",
    "\n",
    "%run matplotlib_setup.ipy  # an *.ipy file importing a few libraries for plotting and setting plots up\n",
    "\n",
    "import nextnanopy as nn                  # your favourite nextnanopy (to run nextnano ++)\n",
    "from scipy.interpolate import interp2d   # package with algorithms (here for interpolation only)\n",
    "\n",
    "e = 1.602e-19          # electron charge (C)\n",
    "hb = 6.626e-34/2/np.pi # Dirac constant (Js)\n",
    "h = 6.626e-34          # Planck constant (Js)\n",
    "nm = 1e-9              # 1 nanometer (m)"
   ]
  },
  {
   "cell_type": "markdown",
   "metadata": {},
   "source": [
    "### 2.3 Define helping functions\n",
    "Below, we define a set of functions which will be called later to create the system for simulation of transmission. These functions will allow us to convieniently follow the typical workflow of **Kwant**:\n",
    "1. creating an “empty” tight binding system,\n",
    "2. setting its matrix elements and hoppings,\n",
    "3. attaching leads,\n",
    "4. and passing the finalized system to the solver.\n",
    "\n",
    "The first set of functions will be used to define the potential at each node of the thight-binding sysem. They will use potential outputed by **nextnano++** and interpolate it for the lattice defined for **Kwant**. These functions will be called by the solver to obtain the matrix elements."
   ]
  },
  {
   "cell_type": "code",
   "execution_count": null,
   "metadata": {},
   "outputs": [],
   "source": [
    "def qpc_potential(site): #potential in the scattering region\n",
    "    x, y = site.pos\n",
    "    \n",
    "    return -interpolated_potential(x,y)[0]/T \n",
    "\n",
    "def lead_potential(site): #potential in the left lead\n",
    "    x, y = site.pos\n",
    "    \n",
    "    return -interpolated_potential(left,y)[0]/T \n",
    "\n",
    "\n",
    "def lead_potential2(site): #potential in the right lead\n",
    "    x, y = site.pos\n",
    "\n",
    "    return -interpolated_potential(right,y)[0]/T \n"
   ]
  },
  {
   "cell_type": "markdown",
   "metadata": {},
   "source": [
    "The next functions create the leads, in this case 2D systems with translational symmetry. For the optimisation reasons, they contain their own definitions of functions returning the matrix elements and the hopping parameters (**2nd step**). These functions will call the functions defining the potential of leads passed as **pot**. The leads will represent ohmic contacts and will be further attached to the scattering region. "
   ]
  },
  {
   "cell_type": "code",
   "execution_count": null,
   "metadata": {},
   "outputs": [],
   "source": [
    "def make_lead_input(pot, t=1): # defineing the right lead\n",
    "\n",
    "    def onsite(*args): # return the matrix element of a given site (A_i,j)\n",
    "        return 4 * t - pot(*args)\n",
    "    \n",
    "    def hopping(*args): # return the hopping between two given sites (T_i,j,i+1,j)\n",
    "        return -t \n",
    "\n",
    "    syst = kw.Builder(kw.TranslationalSymmetry([-a, 0])) # specifiy a translational symmetry \n",
    "\n",
    "    syst[(lat(left//a, y) for y in np.arange(bottom//a+1,top//a,1))] = onsite # define the matrix element of each site \n",
    "    syst[lat.neighbors()] = hopping # define the hopping parameters between closest neighbours  \n",
    "    \n",
    "    return syst\n",
    "\n",
    "\n",
    "def make_lead_output(pot, t=1): # defining the left lead\n",
    "   \n",
    "    def onsite(*args): # return the matrix element of a given site (A_i,j)\n",
    "        return 4 * t - pot(*args)\n",
    "    \n",
    "    def hopping(*args): # return the hopping between two given sites (T_i,j,i+1,j)\n",
    "        return -t \n",
    "\n",
    "    syst = kw.Builder(kw.TranslationalSymmetry([a, 0])) # specifiy a translational symmetry \n",
    "    \n",
    "    syst[(lat(right//a, y) for y in np.arange(bottom//a+1,top//a,1))] = onsite # define the matrix element of each site\n",
    "    syst[lat.neighbors()] = hopping # define the hopping parameters between closest neighbours\n",
    "    \n",
    "    return syst\n"
   ]
  },
  {
   "cell_type": "markdown",
   "metadata": {},
   "source": [
    "The last function defined goes through most of the workflow of **Kwant**. It creates the empty lattice (**1st step**), fills it with the matrix elements and the hopping parameters defining this way the scattering region (**2nd step**), and creates and attaches the leads to the scattering region (**3rd step**). The output of this function is a complete system for simulation in **Kwant**. This function calls our functions defining the potential in the scattering region and in the leads passed as: **pot1**, **pot2**, and **pot3**."
   ]
  },
  {
   "cell_type": "code",
   "execution_count": null,
   "metadata": {
    "autoscroll": "json-false",
    "ein.tags": [
     "worksheet-0"
    ]
   },
   "outputs": [],
   "source": [
    "\n",
    "def make_system(pot1,pot2,pot3, t=1): # define the scattering region\n",
    "    \n",
    "    def onsite(*args):\n",
    "        return 4 * t - pot1(*args)\n",
    "    \n",
    "    def hopping(*args):\n",
    "        return -t\n",
    "\n",
    "    # Construct the scattering region.\n",
    "    \n",
    "    # 1st step - creating an “empty” tight binding system\n",
    "    sr = kw.Builder()\n",
    "    \n",
    "    # 2st step - setting matrix elements\n",
    "    sr[(lat(x, y) for x in np.arange(left//a+1,right//a,1) for y in np.arange(bottom//a+1,top//a,1))] = onsite\n",
    "    \n",
    "    # 2st step - setting hoppings\n",
    "    sr[lat.neighbors()] = hopping\n",
    "\n",
    "    # 3rd step - Construct the leads and attach them to the scattering region.\n",
    "    lead = make_lead_input(pot2, t)\n",
    "    sr.attach_lead(lead)\n",
    "\n",
    "    lead3 = make_lead_output(pot3, t)\n",
    "    sr.attach_lead(lead3)\n",
    "\n",
    "    return sr"
   ]
  },
  {
   "cell_type": "markdown",
   "metadata": {},
   "source": [
    "That's all about defining helpful functions. Now it's time to define the actual system (**steps 1-3**) and run the final simulation (**step 4**) within a quite short script."
   ]
  },
  {
   "cell_type": "markdown",
   "metadata": {},
   "source": [
    "## 3. Defining the 2D System and Running Kwant\n",
    "\n",
    "### 3.1 Set some parameters of the system\n",
    "\n",
    "The script below defines which piece of the electric potential, otput from the nextnano simulation, is taken into account during the simualtion in **Kwant**. It is important to keep in mind that you need to run simulation in nextnano for bigger region than will be passed to Kwant to obtain a realistic potential for QPC. Check that the input file **3D_conductance_in_top_gated_2DEG_nnp.in** generates much larger slices of potential than passed to Kwant. The slices outputed in this tutorial by **nextnano++** are of size 1000 x 600 nm, while to the Kwant we are passing only 400 x 400 nm pieces. The numbers defining size of the pieces of passed potentials are named in the script as: **left**, **right**, **bottom**, and **top**. Their interpretation is analogous to the lines defining regions in **nextnano++**.\n",
    "\n",
    "The effective mass of the material where the 2DEG is created is chosen.\n",
    "The lattice constant of the tight-binding system can be arbitrary.\n",
    "\n",
    "For basic simulations, similar to this tutorial, it may be sufficient for you to modify the heterostructure and geometry of gates in **nextnano++**, and adjust the limits of the simulation defined below. The rest of the python script can be left intact."
   ]
  },
  {
   "cell_type": "code",
   "execution_count": null,
   "metadata": {},
   "outputs": [],
   "source": [
    "left = -200  # left limit of the scattering region (nm)\n",
    "right = 200     # right limit of the scattering region (nm)\n",
    "\n",
    "bottom = -200      # lower limit of the scattering region (nm)\n",
    "top = 200       # upper limit of the scattering region (nm)\n",
    "\n",
    "ms = 0.067 * 9.109e-31  # an effective mass of electrons in 2DEG \n",
    "\n",
    "a = 1  # lattice constant of the tight-binding system (nm)\n",
    "\n",
    "T = hb*hb/2/nm/nm/ms/e # constant to convert from eV (output of nn++) to kwant energy unit"
   ]
  },
  {
   "cell_type": "markdown",
   "metadata": {},
   "source": [
    "### 3.2 Let's check what is modeled\n",
    "\n",
    "In this part the Kwant workflow begins. The goal of the script below is to show the lattice defined for simulation in **Kwant** (**1st plot**), potential energy which is passed to the simulation (**2nd plot**), and the electronic band structure of the leads (**3rd plot**). The simulation here is held for the binding constant set to $1/a^{2}$ so that you can change the lattice constant without changing the energy unit in the **Kwant**.\n",
    "\n",
    "To make this part of the script working, you need to change the path to the **bandedges_2d_2deg_slice.fld** containing potential from one of your simulations in **nextnano++**, as the one present in the script is just an exemplary one."
   ]
  },
  {
   "cell_type": "code",
   "execution_count": null,
   "metadata": {},
   "outputs": [],
   "source": [
    "# +++++ extract and interpolate the potential from nextnano +++++ #\n",
    "# +++++++++++++++++++++++++++++++++++++++++++++++++++++++++++++++ #\n",
    "\n",
    "# Opening the output file with the potential\n",
    "# Here you have to indicate the path to your nn++ output file: bandedges_2d_2deg_slice.fld\n",
    "\n",
    "# EDIT THE PATH TO YOUR OUTPUT FILE\n",
    "# EDIT THE PATH TO YOUR OUTPUT FILE\n",
    "# EDIT THE PATH TO YOUR OUTPUT FILE\n",
    "extracted_potential = nn.DataFile(r'C:\\...\\3D_conductance_in_top_gated_2DEG_nnp\\bias_00000\\bandedges_2d_2deg_slice.fld',product='nextnano++')\n",
    "# EDIT THE PATH TO YOUR OUTPUT FILE\n",
    "# EDIT THE PATH TO YOUR OUTPUT FILE\n",
    "# EDIT THE PATH TO YOUR OUTPUT FILE\n",
    "\n",
    "# Extracting the data using nextnanopy\n",
    "x = extracted_potential.coords['x'].value\n",
    "y = extracted_potential.coords['y'].value\n",
    "potential = extracted_potential.variables['Gamma'].value\n",
    "\n",
    "# Interpolating the extracted electric potential to fit the lattice passed to Kwant\n",
    "# It is used by some of the functions defined before - the first set\n",
    "interpolated_potential=interp2d(x,y,potential.T) # HOW THIS POTENTIAL ENTER THE QPC?\n",
    "\n",
    "# +++++ define the system (by calling the previously defined functions) +++++ #\n",
    "# +++++++++++++++++++++++++++++++++++++++++++++++++++++++++++++++++++++++++++ #\n",
    "\n",
    "# Creating a square lattice \n",
    "lat = kw.lattice.square(a) \n",
    "\n",
    "# Defining the tight binding model (scattering region and leads)\n",
    "# These are the first three steps of the Kwant workflow called in one go\n",
    "qpc = make_system(qpc_potential,lead_potential,lead_potential2,t=1/a**2) \n",
    "\n",
    "# +++++ Plot what is defined +++++ #\n",
    "# ++++++++++++++++++++++++++++++++ #\n",
    "\n",
    "# A plot of the system - the lattice of the scattering region with leads visible as red lines on the lef and right border\n",
    "kw.plot(qpc); \n",
    "\n",
    "# A plot the electric potential that will be passed to the Kwant in this short piece of script\n",
    "kw.plotter.map(qpc, lambda s: qpc_potential(s,)); \n",
    "\n",
    "# +++++ Get really ready to run the simulation - finalization of the structure +++++ #\n",
    "# ++++++++++++++++++++++++++++++++++++++++++++++++++++++++++++++++++++++++++++++++++ #\n",
    "\n",
    "# Getting ready for the simulation\n",
    "fqpc = qpc.finalized()\n",
    "\n",
    "# A plot of the electronic band strucure of the first lead, the one on the left hand side (both are the same)\n",
    "kw.plotter.bands(fqpc.leads[0]);"
   ]
  },
  {
   "cell_type": "markdown",
   "metadata": {},
   "source": [
    "Now, after you have verified lattice, potential and lead bands entering the simulation, it is finally the time for the **4th** step of the **Kwant** workflow - passing the finalized system to the solver (and getting some results). Here, the direct output of the **Kwant** is an object **smatrix** containing all the scattering matrices. You have an easy access to the transmission conductnace between leads in the system using this object. You should get transmission equal to **5.7658...**"
   ]
  },
  {
   "cell_type": "code",
   "execution_count": null,
   "metadata": {},
   "outputs": [],
   "source": [
    "# +++++ Get ready and run the simulation (the 4th step) +++++ #\n",
    "# +++++++++++++++++++++++++++++++++++++++++++++++++++++++++++ #\n",
    "\n",
    "# Solving the scattering problem in Kwant\n",
    "# It will calculute the transmissions from lead 0 to others (here 0 and 1) \n",
    "# at energy 0 which correpsonds to the Fermi level defined in nextnano\n",
    "smatrix = kw.smatrix(fqpc, 0, in_leads=[0]) \n",
    "\n",
    "smatrix.transmission(1,0) #transmission conductance from lead 0 to lead 1 (in unit of 2e^2/h)"
   ]
  },
  {
   "cell_type": "markdown",
   "metadata": {},
   "source": [
    "### 3.3 Plot of transmission vs voltage - the final simulation\n",
    "In this section we actually repeate again everything what you did in the section **3.2**. This time, however, the simulation is performet for all 101 potentials calculated in **nextnano++**. The pinch of curve is plotted as the a final result of this piece of the script.\n",
    "\n",
    "Here as well, you need to refine the path to your output files (the **line 17**)."
   ]
  },
  {
   "cell_type": "code",
   "execution_count": null,
   "metadata": {},
   "outputs": [],
   "source": [
    "# +++++ Paramteres defining number of output files generated in nextnano++ and related voltages +++++ #\n",
    "# +++++++++++++++++++++++++++++++++++++++++++++++++++++++++++++++++++++++++++++++++++++++++++++++++++ #\n",
    "N = 101 # number of input files generated by nextnano++ to create the pinch-off curve\n",
    "Gate_Volt_min = -2.2 # voltage onthe gate for the first element of the sweep\n",
    "Gate_Volt_max = 0.0 # voltage on the gate for the last element of the sweep\n",
    "\n",
    "# +++++ Reading, Preparing, and Simulationg +++++ #\n",
    "# +++++++++++++++++++++++++++++++++++++++++++++++ #\n",
    "transmission = []\n",
    "\n",
    "print('Iteration:', end = ' ')\n",
    "for k in range(N):\n",
    "    print(str(k), end = ' ')\n",
    "    \n",
    "    # reading \n",
    "\n",
    "    # EDIT THE PATH TO YOUR OUTPUT FILE\n",
    "    # EDIT THE PATH TO YOUR OUTPUT FILE\n",
    "    # EDIT THE PATH TO YOUR OUTPUT FILE\n",
    "    extracted_potential = nn.DataFile(fr'C:\\...\\3D_conductance_in_top_gated_2DEG_nnp\\bias_{str(k).zfill(5)}\\bandedges_2d_2deg_slice.fld',product='nextnano++')\n",
    "    # EDIT THE PATH TO YOUR OUTPUT FILE\n",
    "    # EDIT THE PATH TO YOUR OUTPUT FILE\n",
    "    # EDIT THE PATH TO YOUR OUTPUT FILE\n",
    "    \n",
    "    x = extracted_potential.coords['x'].value\n",
    "    y = extracted_potential.coords['y'].value\n",
    "    potential = extracted_potential.variables['Gamma'].value\n",
    "\n",
    "    # preparing\n",
    "    \n",
    "    interpolated_potential=interp2d(x, y, potential.T)\n",
    "    lat = kw.lattice.square(a)\n",
    "    qpc = make_system(qpc_potential, lead_potential, lead_potential2, t=1/a**2)\n",
    "    fqpc = qpc.finalized()\n",
    "    \n",
    "    # simulating\n",
    "    \n",
    "    smatrix = kw.smatrix(fqpc, 0, in_leads = [0])\n",
    "    transmission.append(smatrix.transmission(1,0))\n",
    "    \n",
    "# +++++ Plotting +++++ #\n",
    "# ++++++++++++++++++++ #\n",
    "\n",
    "V=np.linspace(Gate_Volt_min, Gate_Volt_max, N)\n",
    "plt.plot(V, transmission, color = 'red')\n",
    "plt.xlabel('upper gate voltage (V)')\n",
    "plt.ylabel('Conductance (2e^2/h)')\n",
    "plt.title('Transmission between input lead and output lead\\n')\n"
   ]
  },
  {
   "cell_type": "code",
   "execution_count": null,
   "metadata": {},
   "outputs": [],
   "source": []
  }
 ],
 "metadata": {
  "kernelspec": {
   "display_name": "Python 3 (ipykernel)",
   "language": "python",
   "name": "python3"
  },
  "language_info": {
   "codemirror_mode": {
    "name": "ipython",
    "version": 3
   },
   "file_extension": ".py",
   "mimetype": "text/x-python",
   "name": "python",
   "nbconvert_exporter": "python",
   "pygments_lexer": "ipython3",
   "version": "3.10.10"
  }
 },
 "nbformat": 4,
 "nbformat_minor": 4
}
