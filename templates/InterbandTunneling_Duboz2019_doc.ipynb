{
 "cells": [
  {
   "cell_type": "markdown",
   "id": "7b676f1b",
   "metadata": {},
   "source": [
    "# Interband tunneling current in a highly-doped nitride heterojunction"
   ]
  },
  {
   "attachments": {},
   "cell_type": "markdown",
   "id": "3ea0a82e",
   "metadata": {},
   "source": [
    "### How to run the script\n",
    "The script uses shortcuts in the repository https://github.com/Chikuwaq/nextnanopy-wrapper. Please 'git clone' it to a convenient path and specify the location in your Python setting. For example, if you use Spyder, the path can be set in Tools > PYTHONPATH manager."
   ]
  },
  {
   "cell_type": "markdown",
   "id": "c64e7491",
   "metadata": {},
   "source": [
    "### What the Python script does"
   ]
  },
  {
   "cell_type": "markdown",
   "id": "8189bb34",
   "metadata": {},
   "source": [
    "The Python script does the following while sweeping the bias:\n",
    "1. run the nextnano++ simulations based on the user-defined parameters\n",
    "2. load from the simulation output the envelopes $\\xi_{vj,z1}, \\xi_{vj,z2}$, and $\\xi_{ci}$ ($\\mathrm{nm}^{-1/2}$) and electrostatic potential $\\phi(z)$ ($\\mathrm{V}$) as a function of position\n",
    "3. differentiate the potential\n",
    "4. using the position-dependent material parameters, calculate the dipole matrix elements and plots them as a function of position\n",
    "5. integrate the product over the device\n",
    "6. calculate tunnel current density ($\\mathrm{A}/\\mathrm{cm}^2$) for individual transitions\n",
    "7. sum the tunnel current density for all possible transitions"
   ]
  },
  {
   "cell_type": "markdown",
   "id": "2b1e93a6",
   "metadata": {},
   "source": [
    "After all simulations and post-calculations, the Python script exports the tunnel I-V curve in the following formats:\n",
    "1. image file with the format specified by the user\n",
    "2. .dat file\n",
    "\n",
    "The output folders are indicated in the console log. .dat format is useful if you compare I-V curves using the nextnanomat overlay feature."
   ]
  },
  {
   "attachments": {},
   "cell_type": "markdown",
   "id": "d1041c1d",
   "metadata": {},
   "source": [
    "### Options for different physical assumptions\n",
    "- If the bool variable 'CalculateEffectiveField\\_fromOutput' is set to 'True', the script calculates the position-dependent effective field \n",
    "$$M_{ij}^\\sigma = \\alpha_{Z\\sigma}^{j*} \\int \\frac{P_1}{E_g}\\xi_{vj, z\\sigma}^*(z)\\xi_{ci\\sigma}(z) e\\frac{\\partial \\phi(z)}{\\partial z} dz$$\n",
    "from the electrostatic potential in the nextnano output. When 'False', the assuption in the paper $$\\frac{\\partial \\phi}{\\partial z} = 1 \\ (\\mathrm{V/nm})$$ is used. Default: True.\n",
    "- If the bool variable 'KaneParameter\\_fromOutput' is set to 'True', the script reads in the Kane parameter $P_1$ in\n",
    "$$\\langle Z | z |S\\rangle \n",
    "  = \\frac{1}{E_g}\\frac{i\\hbar}{m_0}\\langle Z| p_z |S\\rangle\n",
    "  = \\frac{P_1}{E_g}$$\n",
    "from the nextnano++ output. In this case, an 8-band $\\mathbf{k}\\cdot\\mathbf{p}$ simulation with exactly the same device geometry will be performed so that nextnanopy can extract the Kane parameter. If 'False', $P_1$ is calculated from the assumption in the paper ($E_{P1}=$15 eV). Default: True.\n",
    "- If the bool variable 'CalculateReducedMass\\_fromOutput' is set to 'True', the script calculates the position-dependent reduced mass in\n",
    "$$\n",
    "I_{ij} = \\frac{2\\pi e}{\\hbar} \\sum_\\sigma |M_{ij}^\\sigma|^2  \\cdot \\frac{m_r}{2\\pi\\hbar^2} \n",
    "  = \\frac{em_r}{\\hbar^3} \\sum_\\sigma |M_{ij}^\\sigma|^2\n",
    "$$\n",
    "using the nextnano output of the split-off- and $\\Gamma$ band effective masses. When 'False', the assuption in the paper $m_r=0.18 m_0$ is used. Default: False."
   ]
  }
 ],
 "metadata": {
  "kernelspec": {
   "display_name": "Python 3",
   "language": "python",
   "name": "python3"
  },
  "language_info": {
   "codemirror_mode": {
    "name": "ipython",
    "version": 3
   },
   "file_extension": ".py",
   "mimetype": "text/x-python",
   "name": "python",
   "nbconvert_exporter": "python",
   "pygments_lexer": "ipython3",
   "version": "3.8.5"
  }
 },
 "nbformat": 4,
 "nbformat_minor": 5
}
