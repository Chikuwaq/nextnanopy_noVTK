{
 "cells": [
  {
   "cell_type": "markdown",
   "id": "f42ffc88",
   "metadata": {},
   "source": [
    "# How to install nextnanopy\n",
    "Updated: 2022-06-09\n",
    "\n",
    "Contact: python@nextnano.com"
   ]
  },
  {
   "cell_type": "markdown",
   "id": "74bc948a",
   "metadata": {},
   "source": [
    "## Requirements\n",
    "- Python 3.8 or later (recommended installation with [Anaconda](https://www.anaconda.com/products/individual))\n",
    "\n",
    "Anaconda takes care of installing Python and managing packages and includes Anaconda Prompt, which is like a Command Prompt on Windows or Terminal on Linux/Mac.\n",
    "\n",
    "If the access is denied during installation, try to open Anaconda Prompt with administrator rights."
   ]
  },
  {
   "cell_type": "markdown",
   "id": "caf8f8b1",
   "metadata": {},
   "source": [
    "## Option 1: Manual installation\n",
    "The advantage of manual installation is that you have all the templates stored locally, based on which you can immediately start writing your own Python script using nextnanopy library.\n",
    "\n",
    "Nextnanopy is an open repository; you are very welcome to contribute to further development!\n",
    "\n",
    "1. Clone the source from [GitHub](https://github.com/nextnanopy/nextnanopy)\n",
    "2. Open the Anaconda Prompt\n",
    "3. Go to the directory of the nextnanopy project folder\n",
    "4. Build nextnanopy by:  \n",
    "```python setup.py install```\n",
    "5. Open Spyder by:  \n",
    "```spyder```  \n",
    "Now you should be able to import nextnanopy library.\n",
    "6. Follow [Example 0](https://github.com/nextnanopy/nextnanopy/blob/master/docs/examples/Example0_Set_up_the_configuration.ipynb) to set up the configuration\n",
    "\n",
    "To upgrade to the latest version, from Anaconda Prompt,\n",
    "1. 'git pull' the repository\n",
    "2. Build by:  \n",
    "```python setup.py install```"
   ]
  },
  {
   "cell_type": "markdown",
   "id": "7d0bd694",
   "metadata": {},
   "source": [
    "## Option 2: Automatic installation\n",
    "The advantage of automatic installation is that it does not require knowledge of the GitHub repository.\n",
    "1. Open the Anaconda Prompt\n",
    "2. Install by:  \n",
    "```pip install nextnanopy```\n",
    "3. Open Spyder by:  \n",
    "```spyder```\n",
    "Now you should be able to import nextnanopy library.\n",
    "4. Follow [Example 0](https://github.com/nextnanopy/nextnanopy/blob/master/docs/examples/Example0_Set_up_the_configuration.ipynb) to set up the configuration\n",
    "\n",
    "To upgrade to the latest version, from Anaconda Prompt,  \n",
    "```pip install --upgrade nextnanopy```"
   ]
  },
  {
   "cell_type": "markdown",
   "id": "0ff7e8b0",
   "metadata": {},
   "source": [
    "## Dependencies\n",
    "Many of these packages come with Anaconda.\n",
    "\n",
    "Necessary packages:\n",
    "- [Python](https://www.python.org/) (tested with version 3.8)\n",
    "- [Numpy](http://numpy.scipy.org/)\n",
    "- [PyVista](https://www.pyvista.org/) (to load VTK data)\n",
    "\n",
    "Optional packages to enhance nextnanopy:\n",
    "- [Matplotlib](https://matplotlib.org/) (to visualize data)\n",
    "- [Gdspy](https://gdspy.readthedocs.io/) (to import GDS files)\n",
    "- [Shapely](https://shapely.readthedocs.io/) (to manipulate polygons from GDS files)\n",
    "- [Cycler](https://pypi.org/project/Cycler/) (to visualize imported polygons)\n",
    "\n",
    "If any package is missing, you can install from Anaconda Prompt with:  \n",
    "```conda install <package name>```"
   ]
  }
 ],
 "metadata": {
  "kernelspec": {
   "display_name": "Python 3",
   "language": "python",
   "name": "python3"
  },
  "language_info": {
   "codemirror_mode": {
    "name": "ipython",
    "version": 3
   },
   "file_extension": ".py",
   "mimetype": "text/x-python",
   "name": "python",
   "nbconvert_exporter": "python",
   "pygments_lexer": "ipython3",
   "version": "3.8.5"
  }
 },
 "nbformat": 4,
 "nbformat_minor": 5
}
