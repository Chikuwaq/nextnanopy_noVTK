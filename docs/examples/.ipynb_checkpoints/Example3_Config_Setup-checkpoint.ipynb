{
 "cells": [
  {
   "cell_type": "markdown",
   "metadata": {},
   "source": [
    "Please, contact python@nextnano.com for any issue with this example."
   ]
  },
  {
   "cell_type": "code",
   "execution_count": 1,
   "metadata": {},
   "outputs": [],
   "source": [
    "import nextnanopy as nnpy"
   ]
  },
  {
   "cell_type": "code",
   "execution_count": 2,
   "metadata": {},
   "outputs": [],
   "source": [
    "import sys, os"
   ]
  },
  {
   "cell_type": "code",
   "execution_count": 3,
   "metadata": {},
   "outputs": [],
   "source": [
    "# Set working directory to nextnanopy folder\n",
    "target_folder = 'nextnanopy'\n",
    "search = True\n",
    "while search:\n",
    "    if not target_folder in os.getcwd():\n",
    "        break\n",
    "    if os.path.split(os.getcwd())[-1] == target_folder:\n",
    "        search = False\n",
    "    else:\n",
    "        os.chdir('..') #go to parent folder\n",
    "folder_nn3 = os.path.join('tests','datafiles','nextnano3')\n",
    "folder_nnp = os.path.join('tests','datafiles','nextnano++')"
   ]
  },
  {
   "cell_type": "markdown",
   "metadata": {},
   "source": [
    "# Default configuration\n",
    "\n",
    "nextnano configuration is stored in .nncofig file located at your home directory (Usually: C:\\Users\\Your_User)\n",
    "\n",
    "When you import nextnanopy, it will generate automatically the configuration file with few default parameters.\n",
    "\n",
    "This configuration file is useful if you want to load any input file and execute them without passing the compulsory arguments like executable, license, database, etc."
   ]
  },
  {
   "cell_type": "code",
   "execution_count": 4,
   "metadata": {},
   "outputs": [
    {
     "data": {
      "text/plain": [
       "NNConfig(C:\\Users\\jun-liang.wang\\.nnconfig)\n",
       "[nextnano3]\n",
       "exe = \n",
       "license = \n",
       "database = \n",
       "threads = 0\n",
       "outputdirectory = \n",
       "debuglevel = 0\n",
       "cancel = -1\n",
       "softkill = -1\n",
       "[nextnano++]\n",
       "exe = \n",
       "license = \n",
       "database = \n",
       "outputdirectory = \n",
       "threads = 0"
      ]
     },
     "execution_count": 4,
     "metadata": {},
     "output_type": "execute_result"
    }
   ],
   "source": [
    "nnpy.config"
   ]
  },
  {
   "cell_type": "markdown",
   "metadata": {},
   "source": [
    "## Set your own configuration\n",
    "\n",
    "Please, use absolute paths to avoid any possible problem."
   ]
  },
  {
   "cell_type": "code",
   "execution_count": 5,
   "metadata": {},
   "outputs": [],
   "source": [
    "nnpy.config.set('nextnano3','exe','C:\\path_to.exe')\n",
    "nnpy.config.set('nextnano3','license','C:\\license.lic')\n",
    "nnpy.config.set('nextnano3','database','C:\\database.in')\n",
    "nnpy.config.set('nextnano3','outputdirectory','C:\\my_output_folder')\n",
    "nnpy.config.save() #save permanently"
   ]
  },
  {
   "cell_type": "code",
   "execution_count": 6,
   "metadata": {},
   "outputs": [
    {
     "data": {
      "text/plain": [
       "NNConfig(C:\\Users\\jun-liang.wang\\.nnconfig)\n",
       "[nextnano3]\n",
       "exe = C:\\path_to.exe\n",
       "license = C:\\license.lic\n",
       "database = C:\\database.in\n",
       "threads = 0\n",
       "outputdirectory = C:\\my_output_folder\n",
       "debuglevel = 0\n",
       "cancel = -1\n",
       "softkill = -1\n",
       "[nextnano++]\n",
       "exe = \n",
       "license = \n",
       "database = \n",
       "outputdirectory = \n",
       "threads = 0"
      ]
     },
     "execution_count": 6,
     "metadata": {},
     "output_type": "execute_result"
    }
   ],
   "source": [
    "nnpy.config"
   ]
  },
  {
   "cell_type": "markdown",
   "metadata": {},
   "source": [
    "## Reset to default"
   ]
  },
  {
   "cell_type": "code",
   "execution_count": 7,
   "metadata": {},
   "outputs": [],
   "source": [
    "nnpy.config.to_default() # not saved automatically"
   ]
  },
  {
   "cell_type": "code",
   "execution_count": 8,
   "metadata": {},
   "outputs": [
    {
     "data": {
      "text/plain": [
       "NNConfig(C:\\Users\\jun-liang.wang\\.nnconfig)\n",
       "[nextnano3]\n",
       "exe = \n",
       "license = \n",
       "database = \n",
       "threads = 0\n",
       "outputdirectory = \n",
       "debuglevel = 0\n",
       "cancel = -1\n",
       "softkill = -1\n",
       "[nextnano++]\n",
       "exe = \n",
       "license = \n",
       "database = \n",
       "outputdirectory = \n",
       "threads = 0"
      ]
     },
     "execution_count": 8,
     "metadata": {},
     "output_type": "execute_result"
    }
   ],
   "source": [
    "nnpy.config"
   ]
  },
  {
   "cell_type": "code",
   "execution_count": 9,
   "metadata": {},
   "outputs": [],
   "source": [
    "nnpy.config.save() # save the default values"
   ]
  },
  {
   "cell_type": "markdown",
   "metadata": {},
   "source": [
    "# Execute input with default config"
   ]
  },
  {
   "cell_type": "code",
   "execution_count": 10,
   "metadata": {},
   "outputs": [],
   "source": [
    "file = os.path.join(folder_nnp,'example.in')\n",
    "fi = nnpy.InputFile(file) # it will load automatically the config saved at home directory"
   ]
  },
  {
   "cell_type": "code",
   "execution_count": 11,
   "metadata": {},
   "outputs": [
    {
     "name": "stdout",
     "output_type": "stream",
     "text": [
      "Config file location: C:\\Users\\jun-liang.wang\\.nnconfig\n"
     ]
    }
   ],
   "source": [
    "print(f'Config file location: {fi.config.fullpath}')"
   ]
  },
  {
   "cell_type": "code",
   "execution_count": 12,
   "metadata": {},
   "outputs": [
    {
     "data": {
      "text/plain": [
       "NNConfig(C:\\Users\\jun-liang.wang\\.nnconfig)\n",
       "[nextnano3]\n",
       "exe = \n",
       "license = \n",
       "database = \n",
       "threads = 0\n",
       "outputdirectory = \n",
       "debuglevel = 0\n",
       "cancel = -1\n",
       "softkill = -1\n",
       "[nextnano++]\n",
       "exe = \n",
       "license = \n",
       "database = \n",
       "outputdirectory = \n",
       "threads = 0"
      ]
     },
     "execution_count": 12,
     "metadata": {},
     "output_type": "execute_result"
    }
   ],
   "source": [
    "fi.config"
   ]
  },
  {
   "cell_type": "markdown",
   "metadata": {},
   "source": [
    "## Default command arguments for execut a method"
   ]
  },
  {
   "cell_type": "code",
   "execution_count": 13,
   "metadata": {},
   "outputs": [
    {
     "name": "stdout",
     "output_type": "stream",
     "text": [
      "File type: nextnano++\n",
      "execute arguments: {'exe': '', 'license': '', 'database': '', 'outputdirectory': '', 'threads': 0}\n"
     ]
    }
   ],
   "source": [
    "print(f'File type: {fi.type}')\n",
    "print(f'execute arguments: {fi.default_command_args}')"
   ]
  },
  {
   "cell_type": "code",
   "execution_count": 14,
   "metadata": {},
   "outputs": [],
   "source": [
    "# fi.execute() # it works without any arguments"
   ]
  },
  {
   "cell_type": "markdown",
   "metadata": {},
   "source": [
    "# Your own config file elsewhere\n",
    "\n",
    "You can save your own config file in another folder with another name if you want via save method"
   ]
  },
  {
   "cell_type": "code",
   "execution_count": 15,
   "metadata": {},
   "outputs": [],
   "source": [
    "# config.save(fullpath='my_folder\\random_name.nnconfig')"
   ]
  },
  {
   "cell_type": "markdown",
   "metadata": {},
   "source": [
    "Use your own config when you load an input file"
   ]
  },
  {
   "cell_type": "code",
   "execution_count": 16,
   "metadata": {},
   "outputs": [],
   "source": [
    "file = os.path.join(folder_nnp,'example.in')\n",
    "# fi = nnpy.InputFile(file, configpath='my_folder\\random_name.nnconfig') "
   ]
  }
 ],
 "metadata": {
  "kernelspec": {
   "display_name": "Python 3",
   "language": "python",
   "name": "python3"
  },
  "language_info": {
   "codemirror_mode": {
    "name": "ipython",
    "version": 3
   },
   "file_extension": ".py",
   "mimetype": "text/x-python",
   "name": "python",
   "nbconvert_exporter": "python",
   "pygments_lexer": "ipython3",
   "version": "3.8.3"
  }
 },
 "nbformat": 4,
 "nbformat_minor": 4
}
