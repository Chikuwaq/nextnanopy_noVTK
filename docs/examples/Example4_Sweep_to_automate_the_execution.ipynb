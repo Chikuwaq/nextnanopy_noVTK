{
 "cells": [
  {
   "cell_type": "markdown",
   "id": "5d90e602",
   "metadata": {},
   "source": [
    "# Example 4. Use Sweep to automate the execution\n",
    "## About this example: Sweep class\n",
    "\n",
    "Sweep allows you to automatically create input files with different values of specific variables.\n",
    "\n",
    "To work with a sweep, instantiate a Sweep class object as\n",
    "\n",
    "```python\n",
    "my_sweep = nextnanopy.Sweep(sweep_variables, path_to_inputfile)\n",
    "```\n",
    "\n",
    "Here sweep_variables should be a dict, where keys are the names of variables and the values are iterable objects of values. (ideally lists)\n",
    "\n",
    "```python\n",
    "sweep_variables = {'varname1':[val0,val1,val2...],'varname2':[val10,val11,val12...]...}\n",
    "```\n",
    "\n",
    "The name of variables to sweep should coincide with the names of variables in input file (see Example1).\n"
   ]
  },
  {
   "cell_type": "code",
   "execution_count": 1,
   "id": "d3dc75d5",
   "metadata": {},
   "outputs": [
    {
     "name": "stdout",
     "output_type": "stream",
     "text": [
      "Sweep\n",
      "fullpath: E:\\nextnano Users\\heorhii.yehiazarian\\nextnanopy\\nextnanopy_package\\nextnanopy\\docs\\examples\\input_files/sweep_example.in\n",
      "Input variables: 8 elements\n",
      "\t$BIAS = 0.0 # Gate voltage(V)\n",
      "\t$ALLOY = 0.3 # Al content of AlGaAs layer\n",
      "\t$SIZE = 80 # size of AlGaAs layer (nm)\n",
      "\t$DOPECONC = 3e+18 # donor concentration of 10nm doping layer (cm^-3)\n",
      "\t$DOPEPOS = 65 # distance between AlGaAs-GaAs interface and delta doping position (nm)\n",
      "\t$MINGRID = 0.1 # minimum grid spacing (nm)\n",
      "\t$NUMEV = 10 # number of eigenvalues to be calculated\n",
      "\t$BARRIER = 0.7 # height of left Schottky barrier (eV)\n"
     ]
    }
   ],
   "source": [
    "import nextnanopy as nn\n",
    "\n",
    "path = r'E:\\nextnano Users\\heorhii.yehiazarian\\nextnanopy\\nextnanopy_package\\nextnanopy\\docs\\examples\\input_files/sweep_example.in'\n",
    "my_sweep = nn.Sweep({'ALLOY':[0.3,0.6], 'SIZE':[80,100]}, path)\n",
    "print(my_sweep)"
   ]
  },
  {
   "cell_type": "markdown",
   "id": "d50ac567",
   "metadata": {},
   "source": [
    "To save a sweep, use"
   ]
  },
  {
   "cell_type": "code",
   "execution_count": 2,
   "id": "749ed591",
   "metadata": {},
   "outputs": [],
   "source": [
    "my_sweep.save_sweep()"
   ]
  },
  {
   "cell_type": "markdown",
   "id": "b9a45281",
   "metadata": {},
   "source": [
    "After saving, input files are created in the directory of the initial input file. One can access info about the input files via"
   ]
  },
  {
   "cell_type": "code",
   "execution_count": 3,
   "id": "ec39c7bb",
   "metadata": {
    "scrolled": true
   },
   "outputs": [
    {
     "data": {
      "text/plain": [
       "[InputFile\n",
       " fullpath: E:\\nextnano Users\\heorhii.yehiazarian\\nextnanopy\\nextnanopy_package\\nextnanopy\\docs\\examples\\input_files\\sweep_example__ALLOY_0.3_SIZE_80_.in\n",
       " Input variables: 8 elements\n",
       " \t$BIAS = 0.0 # Gate voltage(V)\n",
       " \t$ALLOY = 0.3 # THIS VARIABLE IS UNDER SWEEP\n",
       " \t$SIZE = 80 # THIS VARIABLE IS UNDER SWEEP\n",
       " \t$DOPECONC = 3e+18 # donor concentration of 10nm doping layer (cm^-3)\n",
       " \t$DOPEPOS = 65 # distance between AlGaAs-GaAs interface and delta doping position (nm)\n",
       " \t$MINGRID = 0.1 # minimum grid spacing (nm)\n",
       " \t$NUMEV = 10 # number of eigenvalues to be calculated\n",
       " \t$BARRIER = 0.7 # height of left Schottky barrier (eV),\n",
       " InputFile\n",
       " fullpath: E:\\nextnano Users\\heorhii.yehiazarian\\nextnanopy\\nextnanopy_package\\nextnanopy\\docs\\examples\\input_files\\sweep_example__ALLOY_0.3_SIZE_100_.in\n",
       " Input variables: 8 elements\n",
       " \t$BIAS = 0.0 # Gate voltage(V)\n",
       " \t$ALLOY = 0.3 # THIS VARIABLE IS UNDER SWEEP\n",
       " \t$SIZE = 100 # THIS VARIABLE IS UNDER SWEEP\n",
       " \t$DOPECONC = 3e+18 # donor concentration of 10nm doping layer (cm^-3)\n",
       " \t$DOPEPOS = 65 # distance between AlGaAs-GaAs interface and delta doping position (nm)\n",
       " \t$MINGRID = 0.1 # minimum grid spacing (nm)\n",
       " \t$NUMEV = 10 # number of eigenvalues to be calculated\n",
       " \t$BARRIER = 0.7 # height of left Schottky barrier (eV),\n",
       " InputFile\n",
       " fullpath: E:\\nextnano Users\\heorhii.yehiazarian\\nextnanopy\\nextnanopy_package\\nextnanopy\\docs\\examples\\input_files\\sweep_example__ALLOY_0.6_SIZE_80_.in\n",
       " Input variables: 8 elements\n",
       " \t$BIAS = 0.0 # Gate voltage(V)\n",
       " \t$ALLOY = 0.6 # THIS VARIABLE IS UNDER SWEEP\n",
       " \t$SIZE = 80 # THIS VARIABLE IS UNDER SWEEP\n",
       " \t$DOPECONC = 3e+18 # donor concentration of 10nm doping layer (cm^-3)\n",
       " \t$DOPEPOS = 65 # distance between AlGaAs-GaAs interface and delta doping position (nm)\n",
       " \t$MINGRID = 0.1 # minimum grid spacing (nm)\n",
       " \t$NUMEV = 10 # number of eigenvalues to be calculated\n",
       " \t$BARRIER = 0.7 # height of left Schottky barrier (eV),\n",
       " InputFile\n",
       " fullpath: E:\\nextnano Users\\heorhii.yehiazarian\\nextnanopy\\nextnanopy_package\\nextnanopy\\docs\\examples\\input_files\\sweep_example__ALLOY_0.6_SIZE_100_.in\n",
       " Input variables: 8 elements\n",
       " \t$BIAS = 0.0 # Gate voltage(V)\n",
       " \t$ALLOY = 0.6 # THIS VARIABLE IS UNDER SWEEP\n",
       " \t$SIZE = 100 # THIS VARIABLE IS UNDER SWEEP\n",
       " \t$DOPECONC = 3e+18 # donor concentration of 10nm doping layer (cm^-3)\n",
       " \t$DOPEPOS = 65 # distance between AlGaAs-GaAs interface and delta doping position (nm)\n",
       " \t$MINGRID = 0.1 # minimum grid spacing (nm)\n",
       " \t$NUMEV = 10 # number of eigenvalues to be calculated\n",
       " \t$BARRIER = 0.7 # height of left Schottky barrier (eV)]"
      ]
     },
     "execution_count": 3,
     "metadata": {},
     "output_type": "execute_result"
    }
   ],
   "source": [
    "my_sweep.input_files"
   ]
  },
  {
   "cell_type": "markdown",
   "id": "8368f081",
   "metadata": {},
   "source": [
    "To execute the sweep, run \n",
    "```python\n",
    "Sweep.execute_sweep()\n",
    "```\n",
    "\n",
    "Under execution, a few things will happen.\n",
    "1. The directory inputfilename_sweep_var1_var2_...varn will be created in the output directory.\n",
    "2. The sweep.info file with the information of the sweep is saved there.\n",
    "3. Input files from sweep.input_files are executed and output is saved to the mentioned folder.\n",
    "\n",
    "Sweep.execute() has 5 optional parameters + can take any parameter accepted by nextnanopy.InputFile.execute().\n",
    "\n",
    "1. delete_input_files: bool, optional\n",
    "\n",
    "When set to `True`, input_files will be deleted after execution. Default is `False`.\n",
    "\n",
    "2. overwrite: bool, optional\n",
    "\n",
    "When set to `True`, the output will overwrite the old output. When `False`, execution will create new output folder (with the unique name, created by adding an integer to the foldername). Default is `False`.\n",
    "\n",
    "3. show_log: bool, optional\n",
    "\n",
    "When set to `True`, the simulation log is displayed in the console, while `False` suppresses the log. Default is `True`. Note that the log file is always saved in the output folders regardless of this option.\n",
    "\n",
    "4. convergenceCheck: bool, optional\n",
    "\n",
    "When set to `True`, nextnanopy scans the log file of the simulation performed and check whether the solution has converged. If it did not converge, nextnanopy warns you and ask if you want to proceed with postprocessing. Note that non-converged solutions are not reliable and further calculation and/or visualization from them do not make much sense. Default is `False`.\n",
    "\n",
    "5.  parallel_limit: int, optional\n",
    "\n",
    "number of simulation to run simultaniously. Espicially usefull for simple simulations which migh be more efficiently rn in parallel. Be aware that some nextnano solvers parallelize computations internally in threads (controlled by --threads in nextnanopy config). To avoid unexpected behaviour and not desirable decrease of simulation speed use the rule: parallel_limit*threads<= number of physical cores of the mahcine\n",
    "default parallel_limit =  1 \n",
    "\n",
    "**kwags\n",
    "Any other parameter accepted by nextnanopy.InputFile.execute() e.g. exe, license, database, outputdirectory"
   ]
  },
  {
   "cell_type": "markdown",
   "id": "dcc76625",
   "metadata": {},
   "source": [
    "Example of the simulation in parallel (2 Input files at a time)\n"
   ]
  },
  {
   "cell_type": "code",
   "execution_count": 4,
   "id": "8d8b200b",
   "metadata": {},
   "outputs": [
    {
     "name": "stdout",
     "output_type": "stream",
     "text": [
      "\n",
      "Remaining simulations in the queue:  3\n",
      "\n",
      "Remaining simulations in the queue:  2\n",
      "\n",
      "Remaining simulations in the queue:  1\n",
      "\n",
      "Remaining simulations in the queue:  0\n",
      "\n",
      "Waiting queue is empty, all execution and logging are finished\n"
     ]
    }
   ],
   "source": [
    "my_sweep.execute_sweep(delete_input_files = True, overwrite = True, show_log = False, convergenceCheck = True, parallel_limit = 2)"
   ]
  },
  {
   "cell_type": "markdown",
   "id": "7a8d5389",
   "metadata": {},
   "source": [
    "Example of the simulation in sequence (if you want to run the sweep which was already executed, save it one more time)"
   ]
  },
  {
   "cell_type": "code",
   "execution_count": 5,
   "id": "71045892",
   "metadata": {},
   "outputs": [
    {
     "name": "stdout",
     "output_type": "stream",
     "text": [
      "\n",
      "Executing simulations [1/4]...\n",
      "\n",
      "Executing simulations [2/4]...\n",
      "\n",
      "Executing simulations [3/4]...\n",
      "\n",
      "Executing simulations [4/4]...\n"
     ]
    }
   ],
   "source": [
    "my_sweep.save_sweep(delete_old_files = False)\n",
    "my_sweep.execute_sweep(delete_input_files = True, overwrite = True, show_log = False, convergenceCheck = True, parallel_limit = 1)"
   ]
  },
  {
   "cell_type": "markdown",
   "id": "adbac36c",
   "metadata": {},
   "source": [
    "\n",
    "\n",
    "Please contact python@nextnano.com for any issues with this document."
   ]
  }
 ],
 "metadata": {
  "kernelspec": {
   "display_name": "Python 3",
   "language": "python",
   "name": "python3"
  },
  "language_info": {
   "codemirror_mode": {
    "name": "ipython",
    "version": 3
   },
   "file_extension": ".py",
   "mimetype": "text/x-python",
   "name": "python",
   "nbconvert_exporter": "python",
   "pygments_lexer": "ipython3",
   "version": "3.8.8"
  }
 },
 "nbformat": 4,
 "nbformat_minor": 5
}
