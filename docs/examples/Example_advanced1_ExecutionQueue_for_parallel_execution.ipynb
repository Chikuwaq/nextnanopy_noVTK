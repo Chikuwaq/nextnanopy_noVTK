{
 "cells": [
  {
   "cell_type": "markdown",
   "id": "6aab2e28",
   "metadata": {},
   "source": [
    "# Example for experienced users* 1: ExecutionQueue for parallel execution\n",
    "\n",
    "#### *Examples for experienced users are recommended for users with prior experience in python\n",
    "\n",
    "## About this example\n",
    "\n",
    "In Example 4: Use Sweep to automate execution it is shown how to run few input files simultaneously using nextnanopy.Sweep.execute_sweep(parallel_limit = n). Implementation of the parallelization is based on thread like object nextanopy.inputs.ExecutionQueue. This example shows how to use this object directly to parallel several simulations at a time if your goal doesn't fall under Sweep \n",
    "\n",
    "\n",
    "### About ExecutionQueue\n",
    "\n",
    "ExecutionQueue class inherits from threading.thread class. To learn more about threading visit https://docs.python.org/3/library/threading.html . \n",
    "\n",
    "The implementation is following: InputFile objects can be added to waiting queue (ExecutionQueue.waiting_queue). On run, InputFiles from queue is executed and added to execution pool (ExecutionQueue.started) until it is full. Whenever some simulations are finished, new InputFile is poped from waiting queue. \n",
    "\n",
    "To create ExecutionQueue object"
   ]
  },
  {
   "cell_type": "code",
   "execution_count": 1,
   "id": "d6ea479e",
   "metadata": {},
   "outputs": [],
   "source": [
    "from nextnanopy.inputs import ExecutionQueue\n",
    "my_queue = ExecutionQueue(parallel_limit = 3, show_log = False)"
   ]
  },
  {
   "cell_type": "markdown",
   "id": "d458e913",
   "metadata": {},
   "source": [
    "##### Folowing parameters can be passed:\n",
    "\n",
    "limit_parallel: int, optional\n",
    "\n",
    "    number of InputFiles to be executed in parallel (default: 1)\n",
    "            \n",
    "terminate_empty : bool, optional\n",
    "\n",
    "    If True, terminates once all added files are executed and logged.\n",
    "    If you want to add more input files even after execution of all added in the beginning, use termanate_empy = False\n",
    "    Then the ExecutionQueue has to be stopped manually later (ExecutionQueue.stop())\n",
    "    default: True\n",
    "            \n",
    "convergenceCheck: bool\n",
    "\n",
    "    see convergenceCheck in InputFile\n",
    "    default: False\n",
    "\n",
    "**execution_kwargs: \n",
    "\n",
    "    parameters to be taken by InputFile.execute() (show_log for example)\n",
    "    \n",
    "##### Following commands can be used:\n",
    "\n",
    "\n",
    "add(*input_files)\n",
    "\n",
    "    adds InputFiles to queue\n",
    "\n",
    "start()\n",
    "\n",
    "    start the thread (i.e. execution)\n",
    "    see threading.Thread.start()\n",
    "    \n",
    "stop()\n",
    "\n",
    "    stop the thread (once all added files are executed)\n",
    "    only necessary if termanate_empty = True\n",
    "\n",
    "join()\n",
    "\n",
    "    wait for the finish of the thread (see threading.Thread.join())"
   ]
  },
  {
   "cell_type": "markdown",
   "id": "3da0b619",
   "metadata": {},
   "source": [
    "To use this object you will need to create the InputFiles"
   ]
  },
  {
   "cell_type": "code",
   "execution_count": 2,
   "id": "b4d31191",
   "metadata": {},
   "outputs": [],
   "source": [
    "import nextnanopy as nn"
   ]
  },
  {
   "cell_type": "code",
   "execution_count": 3,
   "id": "859bae1b",
   "metadata": {},
   "outputs": [],
   "source": [
    "example_path = r'.\\input_files/sweep_example.in'\n",
    "input_file1 = nn.InputFile(example_path)\n",
    "input_file2 = nn.InputFile(example_path)\n",
    "input_file3 = nn.InputFile(example_path)\n",
    "input_file4 = nn.InputFile(example_path)\n",
    "input_file5 = nn.InputFile(example_path)\n",
    "input_file6 = nn.InputFile(example_path)"
   ]
  },
  {
   "cell_type": "markdown",
   "id": "c5d51680",
   "metadata": {},
   "source": [
    "Now we will modify and safe input files with different names (overwrite = False)"
   ]
  },
  {
   "cell_type": "code",
   "execution_count": 4,
   "id": "9a666781",
   "metadata": {},
   "outputs": [
    {
     "data": {
      "text/plain": [
       "'.\\\\input_files\\\\sweep_example_5.in'"
      ]
     },
     "execution_count": 4,
     "metadata": {},
     "output_type": "execute_result"
    }
   ],
   "source": [
    "input_file1.set_variable(name = 'BIAS', value = 1.0)\n",
    "input_file1.save()\n",
    "input_file2.set_variable(name = 'SIZE', value = 83)\n",
    "input_file2.save()\n",
    "input_file3.set_variable(name = 'SIZE', value = 91)\n",
    "input_file3.save()\n",
    "input_file4.set_variable(name = 'ALLOY', value = 0.1)\n",
    "input_file4.save()\n",
    "input_file5.set_variable(name = 'ALLOY',value = 0.2)\n",
    "input_file5.set_variable(name = 'SIZE',value = 0.6)\n",
    "input_file5.save()\n",
    "input_file6.set_variable(name = 'NUMEV', value = 12)\n",
    "input_file6.save()\n"
   ]
  },
  {
   "cell_type": "markdown",
   "id": "d06fadbd",
   "metadata": {},
   "source": [
    "*Note: different input_file objects should be created. Modifying the same InputFile object n times will not work.*\n",
    "\n",
    "*Hint: you can use deepcopy in some cases to simplify the code.*\n",
    "\n",
    "Now we will add these objects to the waiting queue"
   ]
  },
  {
   "cell_type": "code",
   "execution_count": 5,
   "id": "456e7154",
   "metadata": {},
   "outputs": [],
   "source": [
    "my_queue.add(input_file1,input_file2,input_file3,input_file4,input_file5,input_file6)"
   ]
  },
  {
   "cell_type": "markdown",
   "id": "cb7a1b1d",
   "metadata": {},
   "source": [
    "And start the queue"
   ]
  },
  {
   "cell_type": "code",
   "execution_count": 6,
   "id": "3b8957f6",
   "metadata": {},
   "outputs": [
    {
     "name": "stdout",
     "output_type": "stream",
     "text": [
      "\n",
      "Remaining simulations in the queue:  5\n",
      "\n",
      "Remaining simulations in the queue:  4\n",
      "\n",
      "Remaining simulations in the queue:  3\n",
      "\n",
      "Remaining simulations in the queue:  2\n",
      "\n",
      "Remaining simulations in the queue:  1\n",
      "\n",
      "Remaining simulations in the queue:  0\n",
      "\n",
      "Waiting queue is empty, all execution and logging are finished\n"
     ]
    }
   ],
   "source": [
    "my_queue.start()"
   ]
  },
  {
   "cell_type": "markdown",
   "id": "a2fe24d9",
   "metadata": {},
   "source": [
    "## How *not to* use ExecutionQueue\n",
    "\n",
    "It is not recommended to use ExecutionQueue in cases when Sweep is applicable. If you want to run the same input file modifying one parameter n times, or if you want to modify k different parameters and simulate all combinations of subspace - please, use nextnanopy.Sweep. The Sweep implementation of parallel execution is written in a way to avoid usual problems of threading in python."
   ]
  },
  {
   "cell_type": "markdown",
   "id": "50a3c4e6",
   "metadata": {},
   "source": [
    "## How to use ExecutionQueue\n",
    "\n",
    "Here are some examples when Sweep is not applicable and ExecutionQueue is recommended.\n",
    "\n",
    "1. You want to simulate in parallel input file changing 3 variables A,B,C... but not all combinations of them:\n",
    "    Example: 1. A=1,B=1,C = 3\n",
    "                A = 2,B=1,C = 3\n",
    "                A = 2.5,B = 2, C = 1\n",
    "2. You want to postprocess/visualise some results of simulation while others are still in process\n",
    "\n",
    "3. You want to create and add to the queue new simulations based on the output of finished from the same queue. (here terminate_empty = False is recommended. Do not forget to do ExecutionQueue.stop() in the end)\n",
    "\n",
    "\n",
    "    "
   ]
  },
  {
   "cell_type": "markdown",
   "id": "5b6e451c",
   "metadata": {},
   "source": [
    "## Some comments on time efficiency\n",
    "\n",
    "Be aware that some nextnano solvers parallelize computations internally in threads (controlled by --threads in nextnanopy config). To avoid unexpected behaviour and not desirable decrease of simulation speed use the rule: parallel_limit*threads<= number of physical cores of the mahcine "
   ]
  },
  {
   "cell_type": "markdown",
   "id": "d9a47480",
   "metadata": {},
   "source": [
    "*if you run this example by yourselve, do not forget to delete created input files in examples/input_files folder (all examples with number at the end)"
   ]
  },
  {
   "cell_type": "markdown",
   "id": "6e7caf98",
   "metadata": {},
   "source": [
    "Please contact python@nextnano.com for any issues with this document."
   ]
  },
  {
   "cell_type": "code",
   "execution_count": null,
   "id": "1368d829",
   "metadata": {},
   "outputs": [],
   "source": []
  }
 ],
 "metadata": {
  "kernelspec": {
   "display_name": "Python 3",
   "language": "python",
   "name": "python3"
  },
  "language_info": {
   "codemirror_mode": {
    "name": "ipython",
    "version": 3
   },
   "file_extension": ".py",
   "mimetype": "text/x-python",
   "name": "python",
   "nbconvert_exporter": "python",
   "pygments_lexer": "ipython3",
   "version": "3.8.8"
  }
 },
 "nbformat": 4,
 "nbformat_minor": 5
}
