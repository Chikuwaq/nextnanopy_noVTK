{
 "cells": [
  {
   "cell_type": "markdown",
   "metadata": {},
   "source": [
    "Please, contact python@nextnano.com for any issue with this example."
   ]
  },
  {
   "cell_type": "code",
   "execution_count": 1,
   "metadata": {},
   "outputs": [],
   "source": [
    "import nextnanopy as nnpy"
   ]
  },
  {
   "cell_type": "code",
   "execution_count": 2,
   "metadata": {},
   "outputs": [],
   "source": [
    "# useful imports\n",
    "import sys,os"
   ]
  },
  {
   "cell_type": "code",
   "execution_count": 3,
   "metadata": {},
   "outputs": [],
   "source": [
    "# Set working directory to nextnanopy folder\n",
    "target_folder = 'nextnanopy'\n",
    "search = True\n",
    "while search:\n",
    "    if not target_folder in os.getcwd():\n",
    "        break\n",
    "    if os.path.split(os.getcwd())[-1] == target_folder:\n",
    "        search = False\n",
    "    else:\n",
    "        os.chdir('..') #go to parent folder\n",
    "folder_nn3 = os.path.join('tests','datafiles','nextnano3')\n",
    "folder_nnp = os.path.join('tests','datafiles','nextnano++')"
   ]
  },
  {
   "cell_type": "markdown",
   "metadata": {},
   "source": [
    "# Load input files from nextnano\n",
    "\n",
    "Any input file can be loaded via nextnanopy.InputFile class where the argument is the path to the data file. \n",
    "\n",
    "For example, InputFile('myinputsfolder\\example.in')\n",
    "\n",
    "This class will first check automatically the type of the input file (nextnano3, nextnano++). Then, it will get the raw text and then extract all variables defined in the file (like $my_var = 3 in nextnano++ and %my_var = 3 in nextnano3)."
   ]
  },
  {
   "cell_type": "markdown",
   "metadata": {},
   "source": [
    "# Nextnano++ example"
   ]
  },
  {
   "cell_type": "code",
   "execution_count": 6,
   "metadata": {},
   "outputs": [
    {
     "name": "stdout",
     "output_type": "stream",
     "text": [
      "<nextnanopy.inputs.InputFile object at 0x0000028B6AE1BEE0>\n"
     ]
    }
   ],
   "source": [
    "file = os.path.join(folder_nnp,'example.in')\n",
    "fi = nnpy.InputFile(file)\n",
    "print(fi)"
   ]
  },
  {
   "cell_type": "markdown",
   "metadata": {},
   "source": [
    "## What information does it contain?\n",
    "The InputFile object has the following attributes:\n",
    "- text (str): return raw text\n",
    "- variables (list of InputVariable objects)"
   ]
  },
  {
   "cell_type": "code",
   "execution_count": 7,
   "metadata": {
    "scrolled": true
   },
   "outputs": [
    {
     "name": "stdout",
     "output_type": "stream",
     "text": [
      "Raw text from: tests\\datafiles\\nextnano++\\example.in\n",
      "# 1D sample for solving quantum-poisson\n",
      "\n",
      "#Begin NextnanoWizard parameter section\n",
      "$BIAS = 0.0 # Gate voltage(V)\n",
      "$ALLOY = 0.3 # Al content of AlGaAs layer\n",
      "$SIZE = 80 # size of AlGaAs layer (nm)\n",
      "$DOPECONC = 3e+18 # donor concentration of 10nm doping layer (cm^-3)\n",
      "$DOPEPOS = 65 # distance between AlGaAs-GaAs interface and delta doping position (nm)\n",
      "$MINGRID = 0.1 # minimum grid spacing (nm)\n",
      "$NUMEV = 10 # number of eigenvalues to be calculated\n",
      "$BARRIER = 0.7 # height of left Schottky barrier (eV)\n",
      "#End NextnanoWizard parameter section\n",
      "\n",
      "\n",
      "global{\n",
      "   simulate1D{}\n",
      "   \n",
      "   temperature = 4\n",
      "\n",
      "   substrate{ name = \"GaAs\" }\n",
      "\n",
      "   crystal_zb{ x_hkl = [1, 0, 0] y_hkl = [0, 1, 0] }\n",
      "}\n",
      "\n",
      "\n",
      "grid{\n",
      "   xgrid{\n",
      "      line{ pos = 0                   spacing = 0.5 }\n",
      "      line{ pos = 10                  spacing = 0.5 }\n",
      "      line{ pos = 10+$SIZE-$DOPEPOS-5 spacing = 0.5 }\n",
      "      line{ pos = 10+$SIZE-$DOPEPOS+5 spacing = 0.5 }\n",
      "      line{ pos = 10+$SIZE            spacing = $MINGRID }\n",
      "      line{ pos = 400                 spacing = 5 }\n",
      "   }\n",
      "}\n",
      "\n",
      "\n",
      "impurities{\n",
      "   donor{ name = \"Si\" energy = -10 degeneracy = 2 } # fully ionized\n",
      "}\n",
      "\n",
      "\n",
      "contacts{\n",
      "   schottky{ \n",
      "      name = \"gate\"\n",
      "      bias = 0\n",
      "      barrier = $BARRIER\n",
      "   }\n",
      "\n",
      "   fermi{ \n",
      "      name = \"backgate\"\n",
      "      bias = -$BIAS\n",
      "   }\n",
      "}\n",
      "\n",
      "\n",
      "structure{\n",
      "   output_material_index{}\n",
      "   output_contact_index{}\n",
      "   output_impurities{}\n",
      "\n",
      "   # AlGaAs layer\n",
      "   region{\n",
      "      everywhere{} # default material\n",
      "      ternary_constant{ name = \"Al(x)Ga(1-x)As\" alloy_x = $ALLOY }\n",
      "   }\n",
      "\n",
      "   # GaAs cap layer\n",
      "   region{\n",
      "      line{ x = [0, 10] }\n",
      "      binary{ name = \"GaAs\" }\n",
      "   }\n",
      "\n",
      "   # doping layer\n",
      "   region{\n",
      "      line{ x = [10+$SIZE-$DOPEPOS-5, 10+$SIZE-$DOPEPOS+5] }\n",
      "      doping{ constant{ name = \"Si\" conc = $DOPECONC} }\n",
      "   }\n",
      "\n",
      "   # GaAs substrate\n",
      "   region{\n",
      "      line{ x = [10+$SIZE, 4000] }\n",
      "      binary{ name = \"GaAs\" }\n",
      "   }\n",
      "\n",
      "   #  Top gate (Schottky contact)\n",
      "   region{ \n",
      "      line{ x = [0, 1] }\n",
      "      contact{ name = \"gate\" }\n",
      "   }\n",
      "\n",
      "   # Back gate (Ohmic contact)\n",
      "   region{ \n",
      "      line{ x = [390, 400] }\n",
      "      contact{ name = \"backgate\" }\n",
      "   }\n",
      "}\n",
      "\n",
      "\n",
      "classical{\n",
      "   Gamma{}\n",
      "   HH{}\n",
      "\n",
      "   output_bandedges{}\n",
      "   output_carrier_densities{}\n",
      "   output_ionized_dopant_densities{}\n",
      "}\n",
      "\n",
      "\n",
      "quantum {\n",
      "   region{\n",
      "      name = \"2DEG\"\n",
      "      x = [10+$SIZE-5, 250]\n",
      "      Gamma{ num_ev = $NUMEV }\n",
      "      output_wavefunctions{ probabilities = yes  max_num = $NUMEV }\n",
      "   }\n",
      "}\n",
      "\n",
      "\n",
      "poisson{\n",
      "   output_potential{}\n",
      "}\n",
      "\n",
      "\n",
      "currents{\n",
      "   recombination_model{\n",
      "      SRH         = no\n",
      "      Auger       = no\n",
      "      radiative   = no\n",
      "   }\n",
      "   insulator_bandgap = 0.05 # guarantees that fermi level drops in barrier region without solving current equation\n",
      "   output_fermi_levels{}\n",
      "}\n",
      "\n",
      "\n",
      "run{\n",
      "   solve_poisson{}\n",
      "   solve_quantum{}\n",
      "   outer_iteration{} # solve coupled Schrödinger-Poisson equations\n",
      "}\n",
      "\n"
     ]
    }
   ],
   "source": [
    "print(f\"Raw text from: {fi.fullpath}\")\n",
    "print(f\"{fi.text}\")"
   ]
  },
  {
   "cell_type": "markdown",
   "metadata": {},
   "source": [
    "## Get  Input variables information \n",
    "The information is stored in InputVariable objects in the attribute .variables\n",
    "These objects contains information about:\n",
    "- name (str)\n",
    "- value (undefined)\n",
    "- unit (str, optional)\n",
    "- label (str, optional)\n",
    "- comment (str, optional)\n",
    "- metadata (dict, optional)"
   ]
  },
  {
   "cell_type": "code",
   "execution_count": 8,
   "metadata": {},
   "outputs": [
    {
     "name": "stdout",
     "output_type": "stream",
     "text": [
      "List of variables: DictList([\n",
      "(0,'BIAS',InputVariable_nnp(\"BIAS\",...)),\n",
      "(1,'ALLOY',InputVariable_nnp(\"ALLOY\",...)),\n",
      "(2,'SIZE',InputVariable_nnp(\"SIZE\",...)),\n",
      "(3,'DOPECONC',InputVariable_nnp(\"DOPECONC\",...)),\n",
      "(4,'DOPEPOS',InputVariable_nnp(\"DOPEPOS\",...)),\n",
      "(5,'MINGRID',InputVariable_nnp(\"MINGRID\",...)),\n",
      "(6,'NUMEV',InputVariable_nnp(\"NUMEV\",...)),\n",
      "(7,'BARRIER',InputVariable_nnp(\"BARRIER\",...))\n",
      "])\n"
     ]
    }
   ],
   "source": [
    "print(f\"List of variables: {fi.variables}\")"
   ]
  },
  {
   "cell_type": "code",
   "execution_count": 9,
   "metadata": {},
   "outputs": [
    {
     "name": "stdout",
     "output_type": "stream",
     "text": [
      "$BIAS = 0.0 # Gate voltage(V)\n",
      "$ALLOY = 0.3 # Al content of AlGaAs layer\n",
      "$SIZE = 80 # size of AlGaAs layer (nm)\n",
      "$DOPECONC = 3e+18 # donor concentration of 10nm doping layer (cm^-3)\n",
      "$DOPEPOS = 65 # distance between AlGaAs-GaAs interface and delta doping position (nm)\n",
      "$MINGRID = 0.1 # minimum grid spacing (nm)\n",
      "$NUMEV = 10 # number of eigenvalues to be calculated\n",
      "$BARRIER = 0.7 # height of left Schottky barrier (eV)\n"
     ]
    }
   ],
   "source": [
    "for var in fi.variables.values():\n",
    "    print(f'${var.name} = {var.value} # {var.comment}')\n",
    "    # print(f'{var.text}') # --> better method to preview"
   ]
  },
  {
   "cell_type": "markdown",
   "metadata": {},
   "source": [
    "## Change variable value easily"
   ]
  },
  {
   "cell_type": "code",
   "execution_count": 10,
   "metadata": {},
   "outputs": [],
   "source": [
    "fi.variables['BIAS'].value = 3"
   ]
  },
  {
   "cell_type": "markdown",
   "metadata": {},
   "source": [
    "## Save the current file\n",
    "\n",
    "You can choose if you want to save elsewhere, to overwrite or to find an unused name."
   ]
  },
  {
   "cell_type": "code",
   "execution_count": 11,
   "metadata": {
    "scrolled": true
   },
   "outputs": [
    {
     "name": "stdout",
     "output_type": "stream",
     "text": [
      "Help on method save in module nextnanopy.inputs:\n",
      "\n",
      "save(fullpath='', overwrite=False, automkdir=True) method of nextnanopy.inputs.InputFile instance\n",
      "\n"
     ]
    }
   ],
   "source": [
    "help(fi.save)\n",
    "# fi.save('new_input.in',overwrite=True)\n",
    "# fi.save(overwrite=True)\n",
    "# fi.save(overwrite=False) --> Find unused name by adding index like example_1.in\n",
    "# fi.save('new_folder\\new_input.in',automkdir=True) --> If the folder does not exist, it will create it"
   ]
  },
  {
   "cell_type": "markdown",
   "metadata": {},
   "source": [
    "## Execute the input file\n",
    "\n",
    "Via the method .execute\n",
    "\n",
    "You must pass compulsory arguments with the information about (if you don't have setup any configuration):\n",
    "- exe: path to nextnano executable\n",
    "- license: path to nextnano license file\n",
    "- database: path to nextnano database file\n",
    "- outputdirectory: path to output folder\n",
    "\n",
    "Other optional arguments can be passed.\n",
    "\n",
    "Note: if you change any variable, you must save the file before in order to execute the updated version."
   ]
  },
  {
   "cell_type": "code",
   "execution_count": 12,
   "metadata": {},
   "outputs": [],
   "source": [
    "# fi.execute(\n",
    "#     exe='path_to.exe',\n",
    "#     license='path_to.lic',\n",
    "#     database='path_to.in',\n",
    "#     outputdirectory='path_to',\n",
    "#     )"
   ]
  }
 ],
 "metadata": {
  "kernelspec": {
   "display_name": "Python 3",
   "language": "python",
   "name": "python3"
  },
  "language_info": {
   "codemirror_mode": {
    "name": "ipython",
    "version": 3
   },
   "file_extension": ".py",
   "mimetype": "text/x-python",
   "name": "python",
   "nbconvert_exporter": "python",
   "pygments_lexer": "ipython3",
   "version": "3.8.3"
  }
 },
 "nbformat": 4,
 "nbformat_minor": 4
}
