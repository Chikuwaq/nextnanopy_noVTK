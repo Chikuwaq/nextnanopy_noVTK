{
 "cells": [
  {
   "cell_type": "markdown",
   "metadata": {},
   "source": [
    "# Example 1 - Execute an input file\n",
    "\n",
    "## About this example: load and execute an input file\n",
    "\n",
    "To work with an input file, instantiate an InputFile class object:"
   ]
  },
  {
   "cell_type": "code",
   "execution_count": 1,
   "metadata": {},
   "outputs": [
    {
     "name": "stdout",
     "output_type": "stream",
     "text": [
      "InputFile\n",
      "fullpath: ..\\..\\tests\\datafiles\\nextnano++\\example.in\n",
      "Input variables: 8 elements\n",
      "\t$BIAS = 0.0 # Gate voltage(V)\n",
      "\t$ALLOY = 0.3 # Al content of AlGaAs layer\n",
      "\t$SIZE = 80 # size of AlGaAs layer (nm)\n",
      "\t$DOPECONC = 3e+18 # donor concentration of 10nm doping layer (cm^-3)\n",
      "\t$DOPEPOS = 65 # distance between AlGaAs-GaAs interface and delta doping position (nm)\n",
      "\t$MINGRID = 0.1 # minimum grid spacing (nm)\n",
      "\t$NUMEV = 10 # number of eigenvalues to be calculated\n",
      "\t$BARRIER = 0.7 # height of left Schottky barrier (eV)\n"
     ]
    }
   ],
   "source": [
    "import nextnanopy as nn\n",
    "\n",
    "my_input = nn.InputFile(r'..\\..\\tests\\datafiles\\nextnano++\\example.in')\n",
    "print(my_input)"
   ]
  },
  {
   "cell_type": "markdown",
   "metadata": {},
   "source": [
    "This object contains all the relevant information of the input file such as the raw text, the variables and the configuration for the execution (see Example 0).\n",
    "\n",
    "When you create ```my_input```, the class will first check automatically the type of the input file (nextnano++, nextnano3, nextnano.NEGF or nexntano.MSB). It will then get the raw text and extract all variables defined in the file:\n",
    "\n",
    "```\n",
    "$my_var = 3    # in nextnano++\n",
    "%my_var = 3    ! in nextnano3\n",
    "<Name Comment=\"in nextnano.NEGF\">$my_var</Name>\n",
    "\n",
    "```"
   ]
  },
  {
   "cell_type": "markdown",
   "metadata": {},
   "source": [
    "## What information does it contain?\n",
    "\n",
    "```my_input``` has the following relevant attributes:\n",
    "\n",
    "- fullpath (str): path to the input file including the name\n",
    "- text (str): return raw text\n",
    "- variables (list): list of InputVariable objects\n",
    "- config: nextnano configuration (see Example 0)\n"
   ]
  },
  {
   "cell_type": "code",
   "execution_count": 2,
   "metadata": {
    "scrolled": false
   },
   "outputs": [
    {
     "name": "stdout",
     "output_type": "stream",
     "text": [
      "..\\..\\tests\\datafiles\\nextnano++\\example.in\n"
     ]
    }
   ],
   "source": [
    "print(my_input.fullpath)"
   ]
  },
  {
   "cell_type": "code",
   "execution_count": 3,
   "metadata": {},
   "outputs": [
    {
     "name": "stdout",
     "output_type": "stream",
     "text": [
      "0 # 1D sample for solving quantum-poisson\n",
      "1 \n",
      "2 #Begin NextnanoWizard parameter section\n",
      "3 $BIAS = 0.0 # Gate voltage(V)\n",
      "4 $ALLOY = 0.3 # Al content of AlGaAs layer\n",
      "5 $SIZE = 80 # size of AlGaAs layer (nm)\n",
      "6 $DOPECONC = 3e+18 # donor concentration of 10nm doping layer (cm^-3)\n",
      "7 $DOPEPOS = 65 # distance between AlGaAs-GaAs interface and delta doping position (nm)\n",
      "8 $MINGRID = 0.1 # minimum grid spacing (nm)\n",
      "9 $NUMEV = 10 # number of eigenvalues to be calculated\n",
      "10 $BARRIER = 0.7 # height of left Schottky barrier (eV)\n",
      "11 #End NextnanoWizard parameter section\n",
      "12 \n",
      "13 \n",
      "14 global{\n",
      "15    simulate1D{}\n",
      "16    \n",
      "17    temperature = 4\n",
      "18 \n",
      "19    substrate{ name = \"GaAs\" }\n",
      "20 \n",
      "21    crystal_zb{ x_hkl = [1, 0, 0] y_hkl = [0, 1, 0] }\n",
      "22 }\n",
      "23 \n",
      "24 \n",
      "25 grid{\n",
      "26    xgrid{\n",
      "27       line{ pos = 0                   spacing = 0.5 }\n",
      "28       line{ pos = 10                  spacing = 0.5 }\n",
      "29       line{ pos = 10+$SIZE-$DOPEPOS-5 spacing = 0.5 }\n",
      "30       line{ pos = 10+$SIZE-$DOPEPOS+5 spacing = 0.5 }\n",
      "31       line{ pos = 10+$SIZE            spacing = $MINGRID }\n",
      "32       line{ pos = 400                 spacing = 5 }\n",
      "33    }\n",
      "34 }\n",
      "35 \n",
      "36 \n",
      "37 impurities{\n",
      "38    donor{ name = \"Si\" energy = -10 degeneracy = 2 } # fully ionized\n",
      "39 }\n",
      "40 \n",
      "41 \n",
      "42 contacts{\n",
      "43    schottky{ \n",
      "44       name = \"gate\"\n",
      "45       bias = 0\n",
      "46       barrier = $BARRIER\n",
      "47    }\n",
      "48 \n",
      "49    fermi{ \n",
      "50       name = \"backgate\"\n",
      "51       bias = -$BIAS\n",
      "52    }\n",
      "53 }\n",
      "54 \n",
      "55 \n",
      "56 structure{\n",
      "57    output_material_index{}\n",
      "58    output_contact_index{}\n",
      "59    output_impurities{}\n",
      "60 \n",
      "61    # AlGaAs layer\n",
      "62    region{\n",
      "63       everywhere{} # default material\n",
      "64       ternary_constant{ name = \"Al(x)Ga(1-x)As\" alloy_x = $ALLOY }\n",
      "65    }\n",
      "66 \n",
      "67    # GaAs cap layer\n",
      "68    region{\n",
      "69       line{ x = [0, 10] }\n",
      "70       binary{ name = \"GaAs\" }\n",
      "71    }\n",
      "72 \n",
      "73    # doping layer\n",
      "74    region{\n",
      "75       line{ x = [10+$SIZE-$DOPEPOS-5, 10+$SIZE-$DOPEPOS+5] }\n",
      "76       doping{ constant{ name = \"Si\" conc = $DOPECONC} }\n",
      "77    }\n",
      "78 \n",
      "79    # GaAs substrate\n",
      "80    region{\n",
      "81       line{ x = [10+$SIZE, 4000] }\n",
      "82       binary{ name = \"GaAs\" }\n",
      "83    }\n",
      "84 \n",
      "85    #  Top gate (Schottky contact)\n",
      "86    region{ \n",
      "87       line{ x = [0, 1] }\n",
      "88       contact{ name = \"gate\" }\n",
      "89    }\n",
      "90 \n",
      "91    # Back gate (Ohmic contact)\n",
      "92    region{ \n",
      "93       line{ x = [390, 400] }\n",
      "94       contact{ name = \"backgate\" }\n",
      "95    }\n",
      "96 }\n",
      "97 \n",
      "98 \n",
      "99 classical{\n",
      "100    Gamma{}\n",
      "101    HH{}\n",
      "102 \n",
      "103    output_bandedges{}\n",
      "104    output_carrier_densities{}\n",
      "105    output_ionized_dopant_densities{}\n",
      "106 }\n",
      "107 \n",
      "108 \n",
      "109 quantum {\n",
      "110    region{\n",
      "111       name = \"2DEG\"\n",
      "112       x = [10+$SIZE-5, 250]\n",
      "113       Gamma{ num_ev = $NUMEV }\n",
      "114       output_wavefunctions{ probabilities = yes  max_num = $NUMEV }\n",
      "115    }\n",
      "116 }\n",
      "117 \n",
      "118 \n",
      "119 poisson{\n",
      "120    output_potential{}\n",
      "121 }\n",
      "122 \n",
      "123 \n",
      "124 currents{\n",
      "125    recombination_model{\n",
      "126       SRH         = no\n",
      "127       Auger       = no\n",
      "128       radiative   = no\n",
      "129    }\n",
      "130    insulator_bandgap = 0.05 # guarantees that fermi level drops in barrier region without solving current equation\n",
      "131    output_fermi_levels{}\n",
      "132 }\n",
      "133 \n",
      "134 \n",
      "135 run{\n",
      "136    solve_poisson{}\n",
      "137    solve_quantum{}\n",
      "138    outer_iteration{} # solve coupled Schrödinger-Poisson equations\n",
      "139 }\n",
      "140 \n"
     ]
    }
   ],
   "source": [
    "my_input.preview()"
   ]
  },
  {
   "cell_type": "markdown",
   "metadata": {},
   "source": [
    "## Input variables\n",
    "\n",
    "The input variables are stored in ```my_input.variables``` as a list of ```InputVariable``` objects.\n",
    "\n",
    "These objects have the following attributes:\n",
    "\n",
    "- name (str)\n",
    "- value (undefined)\n",
    "- unit (str, optional)\n",
    "- comment (str, optional)\n",
    "- metadata (dict, optional)\n",
    "- text (str): raw text in the input file for a given variable"
   ]
  },
  {
   "cell_type": "code",
   "execution_count": 4,
   "metadata": {},
   "outputs": [
    {
     "name": "stdout",
     "output_type": "stream",
     "text": [
      "List of variables: DictList([\n",
      "(index: 0 - key: 'BIAS' - $BIAS = 0.0 # Gate voltage(V)),\n",
      "(index: 1 - key: 'ALLOY' - $ALLOY = 0.3 # Al content of AlGaAs layer),\n",
      "(index: 2 - key: 'SIZE' - $SIZE = 80 # size of AlGaAs layer (nm)),\n",
      "(index: 3 - key: 'DOPECONC' - $DOPECONC = 3e+18 # donor concentration of 10nm doping layer (cm^-3)),\n",
      "(index: 4 - key: 'DOPEPOS' - $DOPEPOS = 65 # distance between AlGaAs-GaAs interface and delta doping position (nm)),\n",
      "(index: 5 - key: 'MINGRID' - $MINGRID = 0.1 # minimum grid spacing (nm)),\n",
      "(index: 6 - key: 'NUMEV' - $NUMEV = 10 # number of eigenvalues to be calculated),\n",
      "(index: 7 - key: 'BARRIER' - $BARRIER = 0.7 # height of left Schottky barrier (eV))\n",
      "])\n"
     ]
    }
   ],
   "source": [
    "print(f\"List of variables: {my_input.variables}\")"
   ]
  },
  {
   "cell_type": "markdown",
   "metadata": {},
   "source": [
    "### Get a variables\n",
    "\n",
    "There are several methods to do so:\n",
    "\n",
    "```python\n",
    "my_input.get_variable(name) # method 1 (recommended)\n",
    "my_input.variables[name] # method 2 (recommended)\n",
    "my_input[name] # method 3 (recommended)\n",
    "my_input.variables[index] # method 4\n",
    "```"
   ]
  },
  {
   "cell_type": "markdown",
   "metadata": {},
   "source": [
    "### Let's have a quick look of the variables in this file"
   ]
  },
  {
   "cell_type": "code",
   "execution_count": 5,
   "metadata": {},
   "outputs": [
    {
     "name": "stdout",
     "output_type": "stream",
     "text": [
      "$BIAS = 0.0 # Gate voltage(V)\n",
      "$ALLOY = 0.3 # Al content of AlGaAs layer\n",
      "$SIZE = 80 # size of AlGaAs layer (nm)\n",
      "$DOPECONC = 3e+18 # donor concentration of 10nm doping layer (cm^-3)\n",
      "$DOPEPOS = 65 # distance between AlGaAs-GaAs interface and delta doping position (nm)\n",
      "$MINGRID = 0.1 # minimum grid spacing (nm)\n",
      "$NUMEV = 10 # number of eigenvalues to be calculated\n",
      "$BARRIER = 0.7 # height of left Schottky barrier (eV)\n"
     ]
    }
   ],
   "source": [
    "for var in my_input.variables:\n",
    "    print(var.text)"
   ]
  },
  {
   "cell_type": "markdown",
   "metadata": {},
   "source": [
    "### Variable line number\n",
    "\n",
    "You can also check the line number in the input file where the variable is defined:"
   ]
  },
  {
   "cell_type": "code",
   "execution_count": 6,
   "metadata": {},
   "outputs": [
    {
     "data": {
      "text/plain": [
       "{'line_idx': 3}"
      ]
     },
     "execution_count": 6,
     "metadata": {},
     "output_type": "execute_result"
    }
   ],
   "source": [
    "my_input.variables['BIAS'].metadata"
   ]
  },
  {
   "cell_type": "markdown",
   "metadata": {},
   "source": [
    "### Modify the variable\n",
    "\n",
    "To modify the value of a given variable, you can do:\n",
    "\n",
    "```python\n",
    "my_input.set_variable('BIAS', value=3)\n",
    "```\n",
    "\n",
    "You can also change the comment:\n",
    "```python\n",
    "my_input.set_variable('BIAS', comment='this is a new comment')\n",
    "```\n",
    "\n",
    "You can change both at the same time:\n",
    "```python\n",
    "my_input.set_variable('BIAS', value=3, comment='this is a new comment')\n",
    "```"
   ]
  },
  {
   "cell_type": "code",
   "execution_count": 7,
   "metadata": {},
   "outputs": [
    {
     "name": "stdout",
     "output_type": "stream",
     "text": [
      "Old variable: $BIAS = 0.0 # Gate voltage(V)\n",
      "New variable: $BIAS = 3 # this is a new comment\n"
     ]
    }
   ],
   "source": [
    "print(f\"Old variable: {my_input.get_variable('BIAS').text}\")\n",
    "my_input.set_variable('BIAS', value=3, comment='this is a new comment')\n",
    "print(f\"New variable: {my_input.get_variable('BIAS').text}\")"
   ]
  },
  {
   "cell_type": "markdown",
   "metadata": {},
   "source": [
    "## Save the current file\n",
    "\n",
    "```my_input``` has a method ```save``` which saves the current input file.\n",
    "\n",
    "```python\n",
    "my_input.save()\n",
    "```\n",
    "\n",
    "By default, it does not overwrite the current file and save it with an unused name (like example_1.in).\n",
    "\n",
    "You can overwrite the current file with the option:\n",
    "\n",
    "```python\n",
    "my_input.save(overwrite=True)\n",
    "```\n",
    "\n",
    "You can save it in another location with a new name:\n",
    "\n",
    "```python\n",
    "my_input.save('new_path\\new_input.in')\n",
    "```\n",
    "\n",
    "Automatically, ```my_input.fullpath``` is updated if the saving was successful.\n",
    "\n",
    "By default, if the new location does not exist, it will create the folder automatically. To turn this option off, use:\n",
    "\n",
    "```python\n",
    "my_input.save('new_path\\new_input.in', automkdir=False)\n",
    "```"
   ]
  },
  {
   "cell_type": "markdown",
   "metadata": {},
   "source": [
    "You can get help for these options from Command prompt:"
   ]
  },
  {
   "cell_type": "code",
   "execution_count": 8,
   "metadata": {
    "scrolled": true
   },
   "outputs": [
    {
     "name": "stdout",
     "output_type": "stream",
     "text": [
      "Help on method save in module nextnanopy.inputs:\n",
      "\n",
      "save(fullpath=None, overwrite=False, automkdir=True) method of nextnanopy.inputs.InputFile instance\n",
      "    Save the current information into a file.\n",
      "    \n",
      "    Parameters\n",
      "    ----------\n",
      "    fullpath : str, optional\n",
      "        path including the file name where it will be saved (default is None)\n",
      "        If None, it will use the current .fullpath\n",
      "    overwrite : bool, optional\n",
      "        If it is False, it will find an unused name by adding an extra index like _1\n",
      "        (default is False)\n",
      "    automkdir : bool, optional\n",
      "        If it is True, it will create the folder if it does not exist.\n",
      "        (default is False)\n",
      "\n"
     ]
    }
   ],
   "source": [
    "help(my_input.save)"
   ]
  },
  {
   "cell_type": "markdown",
   "metadata": {},
   "source": [
    "## Execute the input file\n",
    "\n",
    "To execute the input file, run:\n",
    "\n",
    "```python\n",
    "my_input.execute()\n",
    "```\n",
    "\n",
    "Make sure you have saved the file before execution, otherwise your modification to the input file does not take effect.\n",
    "\n",
    "The ```execute``` method without any arguments will use the configuration stored in ```my_input.config```. As explained in Example 0, it will automatically detect the nextnano product (nextnano++, nextnano3, nextnano.NEGF or nextnano.MSB) and will load the corresponding configuration parameters prior to the execution.\n",
    "\n",
    "From 2022-03-22, a new option \n",
    "```python\n",
    "my_input.execute(convergenceCheck=True)\n",
    "```\n",
    "is available (default is False). If True, nextnanopy scans the log file of the simulation performed and check whether the solution has converged. If it did not converge, nextnanopy warns you and ask if you want to proceed with postprocessing. Note that non-converged solutions are not reliable and further calculation and/or visualization from them do not make much sense."
   ]
  },
  {
   "cell_type": "markdown",
   "metadata": {},
   "source": [
    "You can get help for these options from Command prompt:"
   ]
  },
  {
   "cell_type": "code",
   "execution_count": 9,
   "metadata": {},
   "outputs": [
    {
     "name": "stdout",
     "output_type": "stream",
     "text": [
      "Help on method execute in module nextnanopy.inputs:\n",
      "\n",
      "execute(**kwargs) method of nextnanopy.inputs.InputFile instance\n",
      "    Execute the input file located at .fullpath\n",
      "    Individual kwargs can be passed like 'license' or 'database'\n",
      "    If no kwargs is specified, it will use the default values in .config\n",
      "    \n",
      "    Parameters\n",
      "    ----------\n",
      "    exe : str, optional\n",
      "        path to executable\n",
      "    license : str, optional\n",
      "        path to license file\n",
      "    database : str, optional\n",
      "        path to database file\n",
      "    outputdirectory : str, optional\n",
      "        path where to save the simulated data\n",
      "    \n",
      "    Other parameters can be used depending on the nextnano product.\n",
      "    For example, 'threads' is accepted for nextnano++.\n",
      "    Please, see the documentation of the command line arguments for each nextnano product\n",
      "    in the website (https://www.nextnano.com/)\n",
      "\n"
     ]
    }
   ],
   "source": [
    "help(my_input.execute)"
   ]
  },
  {
   "cell_type": "markdown",
   "metadata": {},
   "source": [
    "## Get information after executing the file\n",
    "\n",
    "The output folder of the simulation is stored at:\n",
    "```python\n",
    "my_input.folder_output\n",
    "```\n",
    "\n",
    "You can access all the relevant information from the execution, e.g., the log file location, the command line arguments, via:\n",
    "```python\n",
    "my_input.execute_info\n",
    "```\n"
   ]
  },
  {
   "cell_type": "code",
   "execution_count": 11,
   "metadata": {},
   "outputs": [
    {
     "data": {
      "text/plain": [
       "'E:\\\\junliang.wang\\\\nextnano\\\\Output\\\\example'"
      ]
     },
     "execution_count": 11,
     "metadata": {},
     "output_type": "execute_result"
    }
   ],
   "source": [
    "my_input.folder_output"
   ]
  },
  {
   "cell_type": "markdown",
   "metadata": {},
   "source": [
    "## Sweep an input variable\n",
    "\n",
    "__Automatic sweep is now supported. Please refer to Example 4.__\n",
    "\n",
    "You can sweep its value and execute the input file in a simple loop. Manual sweep might look like:\n",
    "\n",
    "```python\n",
    "for value in [0, 1, 2]:\n",
    "    my_input.set_variable('BIAS', value=value)\n",
    "    my_input.save() # remember that by default, overwrite is False.\n",
    "    my_input.execute() \n",
    "```"
   ]
  },
  {
   "cell_type": "markdown",
   "metadata": {},
   "source": [
    "## Change filename and input folder\n",
    "\n",
    "If you want to change the current filename or the current input folder, you can do the following:\n",
    "```python\n",
    "my_input.filename = 'new_file.in'\n",
    "my_input.filename_only = 'new_file' # it will use the original file extension\n",
    "my_input.folder_input = 'new_folder'\n",
    "```"
   ]
  },
  {
   "cell_type": "markdown",
   "metadata": {},
   "source": [
    "\n",
    "\n",
    "Please contact python@nextnano.com for any issues with this document."
   ]
  }
 ],
 "metadata": {
  "kernelspec": {
   "display_name": "Python 3",
   "language": "python",
   "name": "python3"
  },
  "language_info": {
   "codemirror_mode": {
    "name": "ipython",
    "version": 3
   },
   "file_extension": ".py",
   "mimetype": "text/x-python",
   "name": "python",
   "nbconvert_exporter": "python",
   "pygments_lexer": "ipython3",
   "version": "3.8.3"
  }
 },
 "nbformat": 4,
 "nbformat_minor": 4
}
